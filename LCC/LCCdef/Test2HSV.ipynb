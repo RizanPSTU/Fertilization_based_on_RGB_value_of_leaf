{
 "cells": [
  {
   "cell_type": "code",
   "execution_count": 1,
   "metadata": {},
   "outputs": [
    {
     "data": {
      "text/plain": [
       "<Figure size 640x480 with 1 Axes>"
      ]
     },
     "metadata": {},
     "output_type": "display_data"
    }
   ],
   "source": [
    "import matplotlib.pyplot as plt\n",
    "from matplotlib import style\n",
    "from PIL import Image\n",
    "import colorsys\n",
    "# Take all 4 images\n",
    "filename1='C:/xampp/htdocs/up/upload/s0.png'\n",
    "filename2='C:/xampp/htdocs/up/upload/s1.png'\n",
    "filename3='C:/xampp/htdocs/up/upload/s2.png'\n",
    "filename4='C:/xampp/htdocs/up/upload/s3.png'\n",
    "\n",
    "image1 = Image.open(filename1)\n",
    "image2 = Image.open(filename2)\n",
    "image3 = Image.open(filename3)\n",
    "image4 = Image.open(filename4)\n",
    "ch=10\n",
    "mx=50\n",
    "max_skip=255\n",
    "image1 =image1.resize((mx,mx))\n",
    "image2 =image2.resize((mx,mx))\n",
    "image3 =image3.resize((mx,mx))\n",
    "image4 =image4.resize((mx,mx))\n",
    "\n",
    "colors= [\"g.\",\"r.\",\"y.\",\"b.\",\"m.\",\"c.\",\".k\"]\n",
    "width1 , height1 = image1.size\n",
    "width2 , height2 = image2.size\n",
    "\n",
    "#Image 1\n",
    "#Taking Hue and Red\n",
    "for i in range(width1):\n",
    "    for j in range(height1):\n",
    "        coordinate = x,y=i,j\n",
    "        points=image1.getpixel(coordinate)\n",
    "        pointsHSV=colorsys.rgb_to_hsv(points[0],points[1],points[2])\n",
    "        dif=points[0] - points[1]\n",
    "        dif=abs(dif)\n",
    "        if dif > ch:\n",
    "            if points[0] < max_skip and points[1] < max_skip:\n",
    "                plt.plot(pointsHSV[0],points[0],colors[0])\n",
    "\n",
    "        \n",
    "axes = plt.gca()\n",
    "\n",
    "plt.show()"
   ]
  },
  {
   "cell_type": "code",
   "execution_count": 2,
   "metadata": {},
   "outputs": [
    {
     "data": {
      "image/png": "[encoded data removed]",
      "text/plain": [
       "<Figure size 432x288 with 1 Axes>"
      ]
     },
     "metadata": {},
     "output_type": "display_data"
    }
   ],
   "source": [
    "#Taking Satiration and Red\n",
    "for i in range(width1):\n",
    "    for j in range(height1):\n",
    "        coordinate = x,y=i,j\n",
    "        points=image1.getpixel(coordinate)\n",
    "        pointsHSV=colorsys.rgb_to_hsv(points[0],points[1],points[2])\n",
    "        dif=points[0] - points[1]\n",
    "        dif=abs(dif)\n",
    "        if dif > ch:\n",
    "            if points[0] < max_skip and points[1] < max_skip:\n",
    "                plt.plot(pointsHSV[1],points[0],colors[0])\n",
    "\n",
    "axes = plt.gca()\n",
    "\n",
    "plt.show()"
   ]
  },
  {
   "cell_type": "code",
   "execution_count": 3,
   "metadata": {},
   "outputs": [
    {
     "data": {
      "image/png": "[encoded data removed]",
      "text/plain": [
       "<Figure size 432x288 with 1 Axes>"
      ]
     },
     "metadata": {},
     "output_type": "display_data"
    }
   ],
   "source": [
    "#Taking Value and Red\n",
    "for i in range(width1):\n",
    "    for j in range(height1):\n",
    "        coordinate = x,y=i,j\n",
    "        points=image1.getpixel(coordinate)\n",
    "        pointsHSV=colorsys.rgb_to_hsv(points[0],points[1],points[2])\n",
    "        dif=points[0] - points[1]\n",
    "        dif=abs(dif)\n",
    "        if dif > ch:\n",
    "            if points[0] < max_skip and points[1] < max_skip:\n",
    "                plt.plot(pointsHSV[2],points[0],colors[0])\n",
    "\n",
    "axes = plt.gca()\n",
    "plt.show()"
   ]
  },
  {
   "cell_type": "code",
   "execution_count": null,
   "metadata": {},
   "outputs": [
    {
     "ename": "KeyboardInterrupt",
     "evalue": "",
     "output_type": "error",
     "traceback": [
      "\u001b[1;31m---------------------------------------------------------------------------\u001b[0m",
      "\u001b[1;31mKeyboardInterrupt\u001b[0m                         Traceback (most recent call last)",
      "\u001b[1;32m<ipython-input-4-e95fdcb0e7fe>\u001b[0m in \u001b[0;36m<module>\u001b[1;34m()\u001b[0m\n\u001b[0;32m      9\u001b[0m         \u001b[1;32mif\u001b[0m \u001b[0mdif\u001b[0m \u001b[1;33m>\u001b[0m \u001b[0mch\u001b[0m\u001b[1;33m:\u001b[0m\u001b[1;33m\u001b[0m\u001b[0m\n\u001b[0;32m     10\u001b[0m             \u001b[1;32mif\u001b[0m \u001b[0mpoints\u001b[0m\u001b[1;33m[\u001b[0m\u001b[1;36m0\u001b[0m\u001b[1;33m]\u001b[0m \u001b[1;33m<\u001b[0m \u001b[0mmax_skip\u001b[0m \u001b[1;32mand\u001b[0m \u001b[0mpoints\u001b[0m\u001b[1;33m[\u001b[0m\u001b[1;36m1\u001b[0m\u001b[1;33m]\u001b[0m \u001b[1;33m<\u001b[0m \u001b[0mmax_skip\u001b[0m\u001b[1;33m:\u001b[0m\u001b[1;33m\u001b[0m\u001b[0m\n\u001b[1;32m---> 11\u001b[1;33m                 \u001b[0mplt\u001b[0m\u001b[1;33m.\u001b[0m\u001b[0mplot\u001b[0m\u001b[1;33m(\u001b[0m\u001b[0mpointsHSV\u001b[0m\u001b[1;33m[\u001b[0m\u001b[1;36m0\u001b[0m\u001b[1;33m]\u001b[0m\u001b[1;33m,\u001b[0m\u001b[0mpoints\u001b[0m\u001b[1;33m[\u001b[0m\u001b[1;36m1\u001b[0m\u001b[1;33m]\u001b[0m\u001b[1;33m,\u001b[0m\u001b[0mcolors\u001b[0m\u001b[1;33m[\u001b[0m\u001b[1;36m0\u001b[0m\u001b[1;33m]\u001b[0m\u001b[1;33m)\u001b[0m\u001b[1;33m\u001b[0m\u001b[0m\n\u001b[0m\u001b[0;32m     12\u001b[0m \u001b[1;33m\u001b[0m\u001b[0m\n\u001b[0;32m     13\u001b[0m \u001b[0maxes\u001b[0m \u001b[1;33m=\u001b[0m \u001b[0mplt\u001b[0m\u001b[1;33m.\u001b[0m\u001b[0mgca\u001b[0m\u001b[1;33m(\u001b[0m\u001b[1;33m)\u001b[0m\u001b[1;33m\u001b[0m\u001b[0m\n",
      "\u001b[1;32m~\\Anaconda3\\lib\\site-packages\\matplotlib\\pyplot.py\u001b[0m in \u001b[0;36mplot\u001b[1;34m(*args, **kwargs)\u001b[0m\n\u001b[0;32m   3356\u001b[0m                       mplDeprecation)\n\u001b[0;32m   3357\u001b[0m     \u001b[1;32mtry\u001b[0m\u001b[1;33m:\u001b[0m\u001b[1;33m\u001b[0m\u001b[0m\n\u001b[1;32m-> 3358\u001b[1;33m         \u001b[0mret\u001b[0m \u001b[1;33m=\u001b[0m \u001b[0max\u001b[0m\u001b[1;33m.\u001b[0m\u001b[0mplot\u001b[0m\u001b[1;33m(\u001b[0m\u001b[1;33m*\u001b[0m\u001b[0margs\u001b[0m\u001b[1;33m,\u001b[0m \u001b[1;33m**\u001b[0m\u001b[0mkwargs\u001b[0m\u001b[1;33m)\u001b[0m\u001b[1;33m\u001b[0m\u001b[0m\n\u001b[0m\u001b[0;32m   3359\u001b[0m     \u001b[1;32mfinally\u001b[0m\u001b[1;33m:\u001b[0m\u001b[1;33m\u001b[0m\u001b[0m\n\u001b[0;32m   3360\u001b[0m         \u001b[0max\u001b[0m\u001b[1;33m.\u001b[0m\u001b[0m_hold\u001b[0m \u001b[1;33m=\u001b[0m \u001b[0mwashold\u001b[0m\u001b[1;33m\u001b[0m\u001b[0m\n",
      "\u001b[1;32m~\\Anaconda3\\lib\\site-packages\\matplotlib\\__init__.py\u001b[0m in \u001b[0;36minner\u001b[1;34m(ax, *args, **kwargs)\u001b[0m\n\u001b[0;32m   1853\u001b[0m                         \u001b[1;34m\"the Matplotlib list!)\"\u001b[0m \u001b[1;33m%\u001b[0m \u001b[1;33m(\u001b[0m\u001b[0mlabel_namer\u001b[0m\u001b[1;33m,\u001b[0m \u001b[0mfunc\u001b[0m\u001b[1;33m.\u001b[0m\u001b[0m__name__\u001b[0m\u001b[1;33m)\u001b[0m\u001b[1;33m,\u001b[0m\u001b[1;33m\u001b[0m\u001b[0m\n\u001b[0;32m   1854\u001b[0m                         RuntimeWarning, stacklevel=2)\n\u001b[1;32m-> 1855\u001b[1;33m             \u001b[1;32mreturn\u001b[0m \u001b[0mfunc\u001b[0m\u001b[1;33m(\u001b[0m\u001b[0max\u001b[0m\u001b[1;33m,\u001b[0m \u001b[1;33m*\u001b[0m\u001b[0margs\u001b[0m\u001b[1;33m,\u001b[0m \u001b[1;33m**\u001b[0m\u001b[0mkwargs\u001b[0m\u001b[1;33m)\u001b[0m\u001b[1;33m\u001b[0m\u001b[0m\n\u001b[0m\u001b[0;32m   1856\u001b[0m \u001b[1;33m\u001b[0m\u001b[0m\n\u001b[0;32m   1857\u001b[0m         inner.__doc__ = _add_data_doc(inner.__doc__,\n",
      "\u001b[1;32m~\\Anaconda3\\lib\\site-packages\\matplotlib\\axes\\_axes.py\u001b[0m in \u001b[0;36mplot\u001b[1;34m(self, *args, **kwargs)\u001b[0m\n\u001b[0;32m   1526\u001b[0m \u001b[1;33m\u001b[0m\u001b[0m\n\u001b[0;32m   1527\u001b[0m         \u001b[1;32mfor\u001b[0m \u001b[0mline\u001b[0m \u001b[1;32min\u001b[0m \u001b[0mself\u001b[0m\u001b[1;33m.\u001b[0m\u001b[0m_get_lines\u001b[0m\u001b[1;33m(\u001b[0m\u001b[1;33m*\u001b[0m\u001b[0margs\u001b[0m\u001b[1;33m,\u001b[0m \u001b[1;33m**\u001b[0m\u001b[0mkwargs\u001b[0m\u001b[1;33m)\u001b[0m\u001b[1;33m:\u001b[0m\u001b[1;33m\u001b[0m\u001b[0m\n\u001b[1;32m-> 1528\u001b[1;33m             \u001b[0mself\u001b[0m\u001b[1;33m.\u001b[0m\u001b[0madd_line\u001b[0m\u001b[1;33m(\u001b[0m\u001b[0mline\u001b[0m\u001b[1;33m)\u001b[0m\u001b[1;33m\u001b[0m\u001b[0m\n\u001b[0m\u001b[0;32m   1529\u001b[0m             \u001b[0mlines\u001b[0m\u001b[1;33m.\u001b[0m\u001b[0mappend\u001b[0m\u001b[1;33m(\u001b[0m\u001b[0mline\u001b[0m\u001b[1;33m)\u001b[0m\u001b[1;33m\u001b[0m\u001b[0m\n\u001b[0;32m   1530\u001b[0m \u001b[1;33m\u001b[0m\u001b[0m\n",
      "\u001b[1;32m~\\Anaconda3\\lib\\site-packages\\matplotlib\\axes\\_base.py\u001b[0m in \u001b[0;36madd_line\u001b[1;34m(self, line)\u001b[0m\n\u001b[0;32m   1928\u001b[0m         \u001b[0mself\u001b[0m\u001b[1;33m.\u001b[0m\u001b[0m_set_artist_props\u001b[0m\u001b[1;33m(\u001b[0m\u001b[0mline\u001b[0m\u001b[1;33m)\u001b[0m\u001b[1;33m\u001b[0m\u001b[0m\n\u001b[0;32m   1929\u001b[0m         \u001b[1;32mif\u001b[0m \u001b[0mline\u001b[0m\u001b[1;33m.\u001b[0m\u001b[0mget_clip_path\u001b[0m\u001b[1;33m(\u001b[0m\u001b[1;33m)\u001b[0m \u001b[1;32mis\u001b[0m \u001b[1;32mNone\u001b[0m\u001b[1;33m:\u001b[0m\u001b[1;33m\u001b[0m\u001b[0m\n\u001b[1;32m-> 1930\u001b[1;33m             \u001b[0mline\u001b[0m\u001b[1;33m.\u001b[0m\u001b[0mset_clip_path\u001b[0m\u001b[1;33m(\u001b[0m\u001b[0mself\u001b[0m\u001b[1;33m.\u001b[0m\u001b[0mpatch\u001b[0m\u001b[1;33m)\u001b[0m\u001b[1;33m\u001b[0m\u001b[0m\n\u001b[0m\u001b[0;32m   1931\u001b[0m \u001b[1;33m\u001b[0m\u001b[0m\n\u001b[0;32m   1932\u001b[0m         \u001b[0mself\u001b[0m\u001b[1;33m.\u001b[0m\u001b[0m_update_line_limits\u001b[0m\u001b[1;33m(\u001b[0m\u001b[0mline\u001b[0m\u001b[1;33m)\u001b[0m\u001b[1;33m\u001b[0m\u001b[0m\n",
      "\u001b[1;32m~\\Anaconda3\\lib\\site-packages\\matplotlib\\artist.py\u001b[0m in \u001b[0;36mset_clip_path\u001b[1;34m(self, path, transform)\u001b[0m\n\u001b[0;32m    671\u001b[0m             \u001b[1;32mif\u001b[0m \u001b[0misinstance\u001b[0m\u001b[1;33m(\u001b[0m\u001b[0mpath\u001b[0m\u001b[1;33m,\u001b[0m \u001b[0mRectangle\u001b[0m\u001b[1;33m)\u001b[0m\u001b[1;33m:\u001b[0m\u001b[1;33m\u001b[0m\u001b[0m\n\u001b[0;32m    672\u001b[0m                 self.clipbox = TransformedBbox(Bbox.unit(),\n\u001b[1;32m--> 673\u001b[1;33m                                                path.get_transform())\n\u001b[0m\u001b[0;32m    674\u001b[0m                 \u001b[0mself\u001b[0m\u001b[1;33m.\u001b[0m\u001b[0m_clippath\u001b[0m \u001b[1;33m=\u001b[0m \u001b[1;32mNone\u001b[0m\u001b[1;33m\u001b[0m\u001b[0m\n\u001b[0;32m    675\u001b[0m                 \u001b[0msuccess\u001b[0m \u001b[1;33m=\u001b[0m \u001b[1;32mTrue\u001b[0m\u001b[1;33m\u001b[0m\u001b[0m\n",
      "\u001b[1;32m~\\Anaconda3\\lib\\site-packages\\matplotlib\\patches.py\u001b[0m in \u001b[0;36mget_transform\u001b[1;34m(self)\u001b[0m\n\u001b[0;32m    197\u001b[0m         \u001b[0mto\u001b[0m \u001b[0mthe\u001b[0m \u001b[1;33m:\u001b[0m\u001b[1;32mclass\u001b[0m\u001b[1;33m:\u001b[0m\u001b[0;31m`\u001b[0m\u001b[0mPatch\u001b[0m\u001b[0;31m`\u001b[0m\u001b[1;33m.\u001b[0m\u001b[1;33m\u001b[0m\u001b[0m\n\u001b[0;32m    198\u001b[0m         \"\"\"\n\u001b[1;32m--> 199\u001b[1;33m         \u001b[1;32mreturn\u001b[0m \u001b[0mself\u001b[0m\u001b[1;33m.\u001b[0m\u001b[0mget_patch_transform\u001b[0m\u001b[1;33m(\u001b[0m\u001b[1;33m)\u001b[0m \u001b[1;33m+\u001b[0m \u001b[0martist\u001b[0m\u001b[1;33m.\u001b[0m\u001b[0mArtist\u001b[0m\u001b[1;33m.\u001b[0m\u001b[0mget_transform\u001b[0m\u001b[1;33m(\u001b[0m\u001b[0mself\u001b[0m\u001b[1;33m)\u001b[0m\u001b[1;33m\u001b[0m\u001b[0m\n\u001b[0m\u001b[0;32m    200\u001b[0m \u001b[1;33m\u001b[0m\u001b[0m\n\u001b[0;32m    201\u001b[0m     \u001b[1;32mdef\u001b[0m \u001b[0mget_data_transform\u001b[0m\u001b[1;33m(\u001b[0m\u001b[0mself\u001b[0m\u001b[1;33m)\u001b[0m\u001b[1;33m:\u001b[0m\u001b[1;33m\u001b[0m\u001b[0m\n",
      "\u001b[1;32m~\\Anaconda3\\lib\\site-packages\\matplotlib\\patches.py\u001b[0m in \u001b[0;36mget_patch_transform\u001b[1;34m(self)\u001b[0m\n\u001b[0;32m    735\u001b[0m \u001b[1;33m\u001b[0m\u001b[0m\n\u001b[0;32m    736\u001b[0m     \u001b[1;32mdef\u001b[0m \u001b[0mget_patch_transform\u001b[0m\u001b[1;33m(\u001b[0m\u001b[0mself\u001b[0m\u001b[1;33m)\u001b[0m\u001b[1;33m:\u001b[0m\u001b[1;33m\u001b[0m\u001b[0m\n\u001b[1;32m--> 737\u001b[1;33m         \u001b[0mself\u001b[0m\u001b[1;33m.\u001b[0m\u001b[0m_update_patch_transform\u001b[0m\u001b[1;33m(\u001b[0m\u001b[1;33m)\u001b[0m\u001b[1;33m\u001b[0m\u001b[0m\n\u001b[0m\u001b[0;32m    738\u001b[0m         \u001b[1;32mreturn\u001b[0m \u001b[0mself\u001b[0m\u001b[1;33m.\u001b[0m\u001b[0m_rect_transform\u001b[0m\u001b[1;33m\u001b[0m\u001b[0m\n\u001b[0;32m    739\u001b[0m \u001b[1;33m\u001b[0m\u001b[0m\n",
      "\u001b[1;32m~\\Anaconda3\\lib\\site-packages\\matplotlib\\patches.py\u001b[0m in \u001b[0;36m_update_patch_transform\u001b[1;34m(self)\u001b[0m\n\u001b[0;32m    712\u001b[0m         \"\"\"\n\u001b[0;32m    713\u001b[0m         \u001b[0mx0\u001b[0m\u001b[1;33m,\u001b[0m \u001b[0my0\u001b[0m\u001b[1;33m,\u001b[0m \u001b[0mx1\u001b[0m\u001b[1;33m,\u001b[0m \u001b[0my1\u001b[0m \u001b[1;33m=\u001b[0m \u001b[0mself\u001b[0m\u001b[1;33m.\u001b[0m\u001b[0m_convert_units\u001b[0m\u001b[1;33m(\u001b[0m\u001b[1;33m)\u001b[0m\u001b[1;33m\u001b[0m\u001b[0m\n\u001b[1;32m--> 714\u001b[1;33m         \u001b[0mbbox\u001b[0m \u001b[1;33m=\u001b[0m \u001b[0mtransforms\u001b[0m\u001b[1;33m.\u001b[0m\u001b[0mBbox\u001b[0m\u001b[1;33m.\u001b[0m\u001b[0mfrom_extents\u001b[0m\u001b[1;33m(\u001b[0m\u001b[0mx0\u001b[0m\u001b[1;33m,\u001b[0m \u001b[0my0\u001b[0m\u001b[1;33m,\u001b[0m \u001b[0mx1\u001b[0m\u001b[1;33m,\u001b[0m \u001b[0my1\u001b[0m\u001b[1;33m)\u001b[0m\u001b[1;33m\u001b[0m\u001b[0m\n\u001b[0m\u001b[0;32m    715\u001b[0m         \u001b[0mrot_trans\u001b[0m \u001b[1;33m=\u001b[0m \u001b[0mtransforms\u001b[0m\u001b[1;33m.\u001b[0m\u001b[0mAffine2D\u001b[0m\u001b[1;33m(\u001b[0m\u001b[1;33m)\u001b[0m\u001b[1;33m\u001b[0m\u001b[0m\n\u001b[0;32m    716\u001b[0m         \u001b[0mrot_trans\u001b[0m\u001b[1;33m.\u001b[0m\u001b[0mrotate_deg_around\u001b[0m\u001b[1;33m(\u001b[0m\u001b[0mx0\u001b[0m\u001b[1;33m,\u001b[0m \u001b[0my0\u001b[0m\u001b[1;33m,\u001b[0m \u001b[0mself\u001b[0m\u001b[1;33m.\u001b[0m\u001b[0mangle\u001b[0m\u001b[1;33m)\u001b[0m\u001b[1;33m\u001b[0m\u001b[0m\n",
      "\u001b[1;32m~\\Anaconda3\\lib\\site-packages\\matplotlib\\transforms.py\u001b[0m in \u001b[0;36mfrom_extents\u001b[1;34m(*args)\u001b[0m\n\u001b[0;32m    840\u001b[0m         \"\"\"\n\u001b[0;32m    841\u001b[0m         \u001b[0mpoints\u001b[0m \u001b[1;33m=\u001b[0m \u001b[0mnp\u001b[0m\u001b[1;33m.\u001b[0m\u001b[0marray\u001b[0m\u001b[1;33m(\u001b[0m\u001b[0margs\u001b[0m\u001b[1;33m,\u001b[0m \u001b[0mdtype\u001b[0m\u001b[1;33m=\u001b[0m\u001b[0mfloat\u001b[0m\u001b[1;33m)\u001b[0m\u001b[1;33m.\u001b[0m\u001b[0mreshape\u001b[0m\u001b[1;33m(\u001b[0m\u001b[1;36m2\u001b[0m\u001b[1;33m,\u001b[0m \u001b[1;36m2\u001b[0m\u001b[1;33m)\u001b[0m\u001b[1;33m\u001b[0m\u001b[0m\n\u001b[1;32m--> 842\u001b[1;33m         \u001b[1;32mreturn\u001b[0m \u001b[0mBbox\u001b[0m\u001b[1;33m(\u001b[0m\u001b[0mpoints\u001b[0m\u001b[1;33m)\u001b[0m\u001b[1;33m\u001b[0m\u001b[0m\n\u001b[0m\u001b[0;32m    843\u001b[0m \u001b[1;33m\u001b[0m\u001b[0m\n\u001b[0;32m    844\u001b[0m     \u001b[1;32mdef\u001b[0m \u001b[0m__format__\u001b[0m\u001b[1;33m(\u001b[0m\u001b[0mself\u001b[0m\u001b[1;33m,\u001b[0m \u001b[0mfmt\u001b[0m\u001b[1;33m)\u001b[0m\u001b[1;33m:\u001b[0m\u001b[1;33m\u001b[0m\u001b[0m\n",
      "\u001b[1;32m~\\Anaconda3\\lib\\site-packages\\matplotlib\\transforms.py\u001b[0m in \u001b[0;36m__init__\u001b[1;34m(self, points, **kwargs)\u001b[0m\n\u001b[0;32m    793\u001b[0m         \u001b[1;31m# default or has been mutated; we store the orig points to\u001b[0m\u001b[1;33m\u001b[0m\u001b[1;33m\u001b[0m\u001b[0m\n\u001b[0;32m    794\u001b[0m         \u001b[1;31m# support the mutated methods\u001b[0m\u001b[1;33m\u001b[0m\u001b[1;33m\u001b[0m\u001b[0m\n\u001b[1;32m--> 795\u001b[1;33m         \u001b[0mself\u001b[0m\u001b[1;33m.\u001b[0m\u001b[0m_points_orig\u001b[0m \u001b[1;33m=\u001b[0m \u001b[0mself\u001b[0m\u001b[1;33m.\u001b[0m\u001b[0m_points\u001b[0m\u001b[1;33m.\u001b[0m\u001b[0mcopy\u001b[0m\u001b[1;33m(\u001b[0m\u001b[1;33m)\u001b[0m\u001b[1;33m\u001b[0m\u001b[0m\n\u001b[0m\u001b[0;32m    796\u001b[0m     \u001b[1;32mif\u001b[0m \u001b[0mDEBUG\u001b[0m\u001b[1;33m:\u001b[0m\u001b[1;33m\u001b[0m\u001b[0m\n\u001b[0;32m    797\u001b[0m         \u001b[0m___init__\u001b[0m \u001b[1;33m=\u001b[0m \u001b[0m__init__\u001b[0m\u001b[1;33m\u001b[0m\u001b[0m\n",
      "\u001b[1;31mKeyboardInterrupt\u001b[0m: "
     ]
    }
   ],
   "source": [
    "#Taking Heu and Green\n",
    "for i in range(width1):\n",
    "    for j in range(height1):\n",
    "        coordinate = x,y=i,j\n",
    "        points=image1.getpixel(coordinate)\n",
    "        pointsHSV=colorsys.rgb_to_hsv(points[0],points[1],points[2])\n",
    "        dif=points[0] - points[1]\n",
    "        dif=abs(dif)\n",
    "        if dif > ch:\n",
    "            if points[0] < max_skip and points[1] < max_skip:\n",
    "                plt.plot(pointsHSV[0],points[1],colors[0])\n",
    "\n",
    "axes = plt.gca()\n",
    "\n",
    "plt.show()"
   ]
  },
  {
   "cell_type": "code",
   "execution_count": null,
   "metadata": {},
   "outputs": [],
   "source": [
    "#Taking Saturation and Green\n",
    "for i in range(width1):\n",
    "    for j in range(height1):\n",
    "        coordinate = x,y=i,j\n",
    "        points=image1.getpixel(coordinate)\n",
    "        pointsHSV=colorsys.rgb_to_hsv(points[0],points[1],points[2])\n",
    "        dif=points[0] - points[1]\n",
    "        dif=abs(dif)\n",
    "        if dif > ch:\n",
    "            if points[0] < max_skip and points[1] < max_skip:\n",
    "                plt.plot(pointsHSV[1],points[1],colors[0])\n",
    "\n",
    "axes = plt.gca()\n",
    "\n",
    "plt.show()"
   ]
  },
  {
   "cell_type": "code",
   "execution_count": null,
   "metadata": {},
   "outputs": [],
   "source": [
    "#Taking Value and Green\n",
    "for i in range(width1):\n",
    "    for j in range(height1):\n",
    "        coordinate = x,y=i,j\n",
    "        points=image1.getpixel(coordinate)\n",
    "        pointsHSV=colorsys.rgb_to_hsv(points[0],points[1],points[2])\n",
    "        dif=points[0] - points[1]\n",
    "        dif=abs(dif)\n",
    "        if dif > ch:\n",
    "            if points[0] < max_skip and points[1] < max_skip:\n",
    "                plt.plot(pointsHSV[2],points[1],colors[0])\n",
    "\n",
    "axes = plt.gca()\n",
    "plt.show()"
   ]
  },
  {
   "cell_type": "code",
   "execution_count": null,
   "metadata": {},
   "outputs": [],
   "source": [
    "#Image 2"
   ]
  },
  {
   "cell_type": "code",
   "execution_count": null,
   "metadata": {},
   "outputs": [],
   "source": [
    "#Taking Heu and Red\n",
    "for i in range(width2):\n",
    "    for j in range(height2):\n",
    "        coordinate = x,y=i,j\n",
    "        points=image2.getpixel(coordinate)\n",
    "        pointsHSV=colorsys.rgb_to_hsv(points[0],points[1],points[2])\n",
    "        dif=points[0] - points[1]\n",
    "        dif=abs(dif)\n",
    "        if dif > ch:\n",
    "            if points[0] < max_skip and points[1] < max_skip:\n",
    "                plt.plot(pointsHSV[0],points[0],colors[1])\n",
    "\n",
    "axes = plt.gca()\n",
    "\n",
    "plt.show()"
   ]
  },
  {
   "cell_type": "code",
   "execution_count": null,
   "metadata": {},
   "outputs": [],
   "source": [
    "#Taking Saturation and Red\n",
    "for i in range(width2):\n",
    "    for j in range(height2):\n",
    "        coordinate = x,y=i,j\n",
    "        points=image2.getpixel(coordinate)\n",
    "        pointsHSV=colorsys.rgb_to_hsv(points[0],points[1],points[2])\n",
    "        dif=points[0] - points[1]\n",
    "        dif=abs(dif)\n",
    "        if dif > ch:\n",
    "            if points[0] < max_skip and points[1] < max_skip:\n",
    "                plt.plot(pointsHSV[1],points[0],colors[1])\n",
    "\n",
    "axes = plt.gca()\n",
    "\n",
    "plt.show()"
   ]
  },
  {
   "cell_type": "code",
   "execution_count": null,
   "metadata": {},
   "outputs": [],
   "source": [
    "#Taking Value and Red\n",
    "for i in range(width2):\n",
    "    for j in range(height2):\n",
    "        coordinate = x,y=i,j\n",
    "        points=image2.getpixel(coordinate)\n",
    "        pointsHSV=colorsys.rgb_to_hsv(points[0],points[1],points[2])\n",
    "        dif=points[0] - points[1]\n",
    "        dif=abs(dif)\n",
    "        if dif > ch:\n",
    "            if points[0] < max_skip and points[1] < max_skip:\n",
    "                plt.plot(pointsHSV[2],points[0],colors[1])\n",
    "\n",
    "axes = plt.gca()\n",
    "plt.show()"
   ]
  },
  {
   "cell_type": "code",
   "execution_count": null,
   "metadata": {},
   "outputs": [],
   "source": [
    "#Taking Heu and Green\n",
    "for i in range(width2):\n",
    "    for j in range(height2):\n",
    "        coordinate = x,y=i,j\n",
    "        points=image2.getpixel(coordinate)\n",
    "        pointsHSV=colorsys.rgb_to_hsv(points[0],points[1],points[2])\n",
    "        dif=points[0] - points[1]\n",
    "        dif=abs(dif)\n",
    "        if dif > ch:\n",
    "            if points[0] < max_skip and points[1] < max_skip:\n",
    "                plt.plot(pointsHSV[0],points[1],colors[1])\n",
    "\n",
    "axes = plt.gca()\n",
    "\n",
    "plt.show()"
   ]
  },
  {
   "cell_type": "code",
   "execution_count": null,
   "metadata": {},
   "outputs": [],
   "source": [
    "#Taking Saturation and Green\n",
    "for i in range(width2):\n",
    "    for j in range(height2):\n",
    "        coordinate = x,y=i,j\n",
    "        points=image2.getpixel(coordinate)\n",
    "        pointsHSV=colorsys.rgb_to_hsv(points[0],points[1],points[2])\n",
    "        dif=points[0] - points[1]\n",
    "        dif=abs(dif)\n",
    "        if dif > ch:\n",
    "            if points[0] < max_skip and points[1] < max_skip:\n",
    "                plt.plot(pointsHSV[1],points[1],colors[1])\n",
    "\n",
    "axes = plt.gca()\n",
    "\n",
    "plt.show()"
   ]
  },
  {
   "cell_type": "code",
   "execution_count": null,
   "metadata": {},
   "outputs": [],
   "source": [
    "#Taking Value and Green\n",
    "for i in range(width2):\n",
    "    for j in range(height2):\n",
    "        coordinate = x,y=i,j\n",
    "        points=image2.getpixel(coordinate)\n",
    "        pointsHSV=colorsys.rgb_to_hsv(points[0],points[1],points[2])\n",
    "        dif=points[0] - points[1]\n",
    "        dif=abs(dif)\n",
    "        if dif > ch:\n",
    "            if points[0] < max_skip and points[1] < max_skip:\n",
    "                plt.plot(pointsHSV[2],points[1],colors[1])\n",
    "\n",
    "axes = plt.gca()\n",
    "plt.show()"
   ]
  },
  {
   "cell_type": "code",
   "execution_count": null,
   "metadata": {},
   "outputs": [],
   "source": [
    "# Image 3"
   ]
  },
  {
   "cell_type": "code",
   "execution_count": null,
   "metadata": {},
   "outputs": [],
   "source": [
    "#Taking Heu and Red\n",
    "\n",
    "width3 , height3 = image3.size\n",
    "\n",
    "for i in range(width3):\n",
    "    for j in range(height3):\n",
    "        coordinate = x,y=i,j\n",
    "        points=image3.getpixel(coordinate)\n",
    "        pointsHSV=colorsys.rgb_to_hsv(points[0],points[1],points[2])\n",
    "        dif=points[0] - points[1]\n",
    "        dif=abs(dif)\n",
    "        if dif > ch:\n",
    "            if points[0] < max_skip and points[1] < max_skip:\n",
    "                plt.plot(pointsHSV[0],points[0],colors[2])\n",
    "                \n",
    "plt.show()"
   ]
  },
  {
   "cell_type": "code",
   "execution_count": null,
   "metadata": {},
   "outputs": [],
   "source": [
    "#Taking Saturation and Red\n",
    "for i in range(width3):\n",
    "    for j in range(height3):\n",
    "        coordinate = x,y=i,j\n",
    "        points=image3.getpixel(coordinate)\n",
    "        pointsHSV=colorsys.rgb_to_hsv(points[0],points[1],points[2])\n",
    "        dif=points[0] - points[1]\n",
    "        dif=abs(dif)\n",
    "        if dif > ch:\n",
    "            if points[0] < max_skip and points[1] < max_skip:\n",
    "                plt.plot(pointsHSV[1],points[0],colors[2])\n",
    "                \n",
    "plt.show()"
   ]
  },
  {
   "cell_type": "code",
   "execution_count": null,
   "metadata": {},
   "outputs": [],
   "source": [
    "#Taking Value and Red\n",
    "for i in range(width3):\n",
    "    for j in range(height3):\n",
    "        coordinate = x,y=i,j\n",
    "        points=image3.getpixel(coordinate)\n",
    "        pointsHSV=colorsys.rgb_to_hsv(points[0],points[1],points[2])\n",
    "        dif=points[0] - points[1]\n",
    "        dif=abs(dif)\n",
    "        if dif > ch:\n",
    "            if points[0] < max_skip and points[1] < max_skip:\n",
    "                plt.plot(pointsHSV[2],points[0],colors[2])\n",
    "                \n",
    "plt.show()"
   ]
  },
  {
   "cell_type": "code",
   "execution_count": null,
   "metadata": {},
   "outputs": [],
   "source": [
    "#Taking Heu and Green\n",
    "for i in range(width3):\n",
    "    for j in range(height3):\n",
    "        coordinate = x,y=i,j\n",
    "        points=image3.getpixel(coordinate)\n",
    "        pointsHSV=colorsys.rgb_to_hsv(points[0],points[1],points[2])\n",
    "        dif=points[0] - points[1]\n",
    "        dif=abs(dif)\n",
    "        if dif > ch:\n",
    "            if points[0] < max_skip and points[1] < max_skip:\n",
    "                plt.plot(pointsHSV[0],points[1],colors[2])\n",
    "                \n",
    "plt.show()"
   ]
  },
  {
   "cell_type": "code",
   "execution_count": null,
   "metadata": {},
   "outputs": [],
   "source": [
    "#Taking Saturation and Green\n",
    "for i in range(width3):\n",
    "    for j in range(height3):\n",
    "        coordinate = x,y=i,j\n",
    "        points=image3.getpixel(coordinate)\n",
    "        pointsHSV=colorsys.rgb_to_hsv(points[0],points[1],points[2])\n",
    "        dif=points[0] - points[1]\n",
    "        dif=abs(dif)\n",
    "        if dif > ch:\n",
    "            if points[0] < max_skip and points[1] < max_skip:\n",
    "                plt.plot(pointsHSV[1],points[1],colors[2])\n",
    "                \n",
    "plt.show()"
   ]
  },
  {
   "cell_type": "code",
   "execution_count": null,
   "metadata": {},
   "outputs": [],
   "source": [
    "#Taking Value and Green\n",
    "\n",
    "for i in range(width3):\n",
    "    for j in range(height3):\n",
    "        coordinate = x,y=i,j\n",
    "        points=image3.getpixel(coordinate)\n",
    "        pointsHSV=colorsys.rgb_to_hsv(points[0],points[1],points[2])\n",
    "        dif=points[0] - points[1]\n",
    "        dif=abs(dif)\n",
    "        if dif > ch:\n",
    "            if points[0] < max_skip and points[1] < max_skip:\n",
    "                plt.plot(pointsHSV[2],points[1],colors[2])\n",
    "                \n",
    "plt.show()"
   ]
  },
  {
   "cell_type": "code",
   "execution_count": null,
   "metadata": {},
   "outputs": [],
   "source": [
    "# Image 4"
   ]
  },
  {
   "cell_type": "code",
   "execution_count": null,
   "metadata": {},
   "outputs": [],
   "source": [
    "#Taking Heu and Red\n",
    "\n",
    "width4 , height4 = image4.size\n",
    "\n",
    "for i in range(width4):\n",
    "    for j in range(height4):\n",
    "        coordinate = x,y=i,j\n",
    "        points=image4.getpixel(coordinate)\n",
    "        pointsHSV=colorsys.rgb_to_hsv(points[0],points[1],points[2])\n",
    "        dif=points[0] - points[1]\n",
    "        dif=abs(dif)\n",
    "        if dif > ch:\n",
    "            if points[0] < max_skip and points[1] < max_skip:\n",
    "                plt.plot(pointsHSV[0],points[0],colors[3])\n",
    "                \n",
    "plt.show()"
   ]
  },
  {
   "cell_type": "code",
   "execution_count": null,
   "metadata": {},
   "outputs": [],
   "source": [
    "#Taking Saturaion and Red\n",
    "for i in range(width4):\n",
    "    for j in range(height4):\n",
    "        coordinate = x,y=i,j\n",
    "        points=image4.getpixel(coordinate)\n",
    "        pointsHSV=colorsys.rgb_to_hsv(points[0],points[1],points[2])\n",
    "        dif=points[0] - points[1]\n",
    "        dif=abs(dif)\n",
    "        if dif > ch:\n",
    "            if points[0] < max_skip and points[1] < max_skip:\n",
    "                plt.plot(pointsHSV[1],points[0],colors[3])\n",
    "                \n",
    "plt.show()"
   ]
  },
  {
   "cell_type": "code",
   "execution_count": null,
   "metadata": {},
   "outputs": [],
   "source": [
    "#Taking Value and Red\n",
    "for i in range(width4):\n",
    "    for j in range(height4):\n",
    "        coordinate = x,y=i,j\n",
    "        points=image4.getpixel(coordinate)\n",
    "        pointsHSV=colorsys.rgb_to_hsv(points[0],points[1],points[2])\n",
    "        dif=points[0] - points[1]\n",
    "        dif=abs(dif)\n",
    "        if dif > ch:\n",
    "            if points[0] < max_skip and points[1] < max_skip:\n",
    "                plt.plot(pointsHSV[2],points[0],colors[3])\n",
    "                \n",
    "plt.show()"
   ]
  },
  {
   "cell_type": "code",
   "execution_count": null,
   "metadata": {},
   "outputs": [],
   "source": [
    "#Taking Heu and Green\n",
    "for i in range(width4):\n",
    "    for j in range(height4):\n",
    "        coordinate = x,y=i,j\n",
    "        points=image4.getpixel(coordinate)\n",
    "        pointsHSV=colorsys.rgb_to_hsv(points[0],points[1],points[2])\n",
    "        dif=points[0] - points[1]\n",
    "        dif=abs(dif)\n",
    "        if dif > ch:\n",
    "            if points[0] < max_skip and points[1] < max_skip:\n",
    "                plt.plot(pointsHSV[0],points[1],colors[3])\n",
    "                \n",
    "plt.show()"
   ]
  },
  {
   "cell_type": "code",
   "execution_count": null,
   "metadata": {},
   "outputs": [],
   "source": [
    "#Taking Saturation and Green\n",
    "for i in range(width4):\n",
    "    for j in range(height4):\n",
    "        coordinate = x,y=i,j\n",
    "        points=image4.getpixel(coordinate)\n",
    "        pointsHSV=colorsys.rgb_to_hsv(points[0],points[1],points[2])\n",
    "        dif=points[0] - points[1]\n",
    "        dif=abs(dif)\n",
    "        if dif > ch:\n",
    "            if points[0] < max_skip and points[1] < max_skip:\n",
    "                plt.plot(pointsHSV[1],points[1],colors[3])\n",
    "                \n",
    "plt.show()"
   ]
  },
  {
   "cell_type": "code",
   "execution_count": null,
   "metadata": {},
   "outputs": [],
   "source": [
    "#Taking Value and Green\n",
    "for i in range(width4):\n",
    "    for j in range(height4):\n",
    "        coordinate = x,y=i,j\n",
    "        points=image4.getpixel(coordinate)\n",
    "        pointsHSV=colorsys.rgb_to_hsv(points[0],points[1],points[2])\n",
    "        dif=points[0] - points[1]\n",
    "        dif=abs(dif)\n",
    "        if dif > ch:\n",
    "            if points[0] < max_skip and points[1] < max_skip:\n",
    "                plt.plot(pointsHSV[2],points[1],colors[3])\n",
    "                \n",
    "plt.show()"
   ]
  }
 ],
 "metadata": {
  "kernelspec": {
   "display_name": "Python 3",
   "language": "python",
   "name": "python3"
  },
  "language_info": {
   "codemirror_mode": {
    "name": "ipython",
    "version": 3
   },
   "file_extension": ".py",
   "mimetype": "text/x-python",
   "name": "python",
   "nbconvert_exporter": "python",
   "pygments_lexer": "ipython3",
   "version": "3.6.6"
  }
 },
 "nbformat": 4,
 "nbformat_minor": 2
}
